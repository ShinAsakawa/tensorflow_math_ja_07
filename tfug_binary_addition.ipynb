{
 "cells": [
  {
   "cell_type": "markdown",
   "metadata": {
    "deletable": true,
    "editable": true
   },
   "source": [
    "# Binary addition for basic RNN"
   ]
  },
  {
   "cell_type": "code",
   "execution_count": null,
   "metadata": {
    "collapsed": true,
    "deletable": true,
    "editable": true
   },
   "outputs": [],
   "source": [
    "#!/usr/bin/env python\n",
    "# -*- encoding: utf-8 -*-\n",
    "\"\"\"i_rnn.py: test rnn code\"\"\"\n",
    "from __future__ import print_function\n",
    "from six.moves import xrange\n",
    "\n",
    "import numpy as np\n",
    "import sys\n",
    "import copy    # for deepcopy\n",
    "\n",
    "__author__    = \"Shin Asakawa\"\n",
    "__copyright__ = \"Copyright 2017, Tokyo JAPAN\"\n",
    "__credits__   = [\"Shin Asakawa\"]\n",
    "__license__   = \"MIT\"\n",
    "__version__   = \"0.1\"\n",
    "__maintainer__ = \"Shin Asakawa\"\n",
    "__email__      = \"asakawa@ieee.org\""
   ]
  },
  {
   "cell_type": "code",
   "execution_count": null,
   "metadata": {
    "collapsed": true,
    "deletable": true,
    "editable": true
   },
   "outputs": [],
   "source": [
    "def sigmoid(x):\n",
    "    return 1./(1.+np.exp(-x))\n",
    "\n",
    "def d_sigmoid(x):\n",
    "    return x * (1.-x)"
   ]
  },
  {
   "cell_type": "code",
   "execution_count": null,
   "metadata": {
    "collapsed": true,
    "deletable": true,
    "editable": true
   },
   "outputs": [],
   "source": [
    "int2binary = {}\n",
    "binary_dim = 8\n",
    "\n",
    "# 2 の binary_dim 乗の数，2 のべき乗だから，2進数にすれば桁数のこと\n",
    "largest_number = pow(2,binary_dim)\n",
    "# 10進数を2進数に展開して array に格納\n",
    "binary = np.unpackbits(np.array([range(largest_number)],\n",
    "                                dtype=np.uint8).T, axis=1)\n",
    "\n",
    "for i in range(largest_number):\n",
    "    int2binary[i] = binary[i]"
   ]
  },
  {
   "cell_type": "code",
   "execution_count": null,
   "metadata": {
    "collapsed": false,
    "deletable": true,
    "editable": true
   },
   "outputs": [],
   "source": [
    "## このセルは実行とは無関係。 np.unpackbits の確認用\n",
    "np.unpackbits(np.array([range(4)],dtype=np.uint8).T, axis=1)\n",
    "# np.array([range(3)])"
   ]
  },
  {
   "cell_type": "code",
   "execution_count": null,
   "metadata": {
    "collapsed": false,
    "deletable": true,
    "editable": true
   },
   "outputs": [],
   "source": [
    "#int2binary[3]\n",
    "np.unpackbits(np.array([1],dtype=np.uint8))"
   ]
  },
  {
   "cell_type": "code",
   "execution_count": null,
   "metadata": {
    "collapsed": true,
    "deletable": true,
    "editable": true
   },
   "outputs": [],
   "source": [
    "### ハイパーパラメータの設定\n",
    "### hyperparameters\n",
    "lr = 0.1     # learning ratio 学習係数\n",
    "MaxIter = 10000  # Maximum iteration number 繰り返しの最大数\n",
    "N_i = 2      # number of units in the input layer  # 入力層のニューロン数(固定)\n",
    "N_h = 16      # number of units in the hidden layer # 中間層のニューロン数(可変)\n",
    "N_o = 1      # number of units in the output layer # 出力層のニューロン数(固定)\n",
    "\n",
    "W_ih = 2 * np.random.random((N_i, N_h)) - 1.  # weight matrix from input to hidden\n",
    "W_ho = 2 * np.random.random((N_h, N_o)) - 1.  # weight matrix from hidden to output\n",
    "W_hh = 2 * np.random.random((N_h, N_h)) - 1.  # weight matrix from context to hidden\n",
    "\n",
    "dW_ih = np.zeros_like(W_ih)    # delta matrix of W_ih\n",
    "dW_ho = np.zeros_like(W_ho)    # delta matrix of W_ho\n",
    "dW_hh = np.zeros_like(W_hh)    # delta matrix of W_hh"
   ]
  },
  {
   "cell_type": "code",
   "execution_count": null,
   "metadata": {
    "collapsed": false,
    "deletable": true,
    "editable": true
   },
   "outputs": [],
   "source": [
    "### 以下のループの意味\n",
    "a = int2binary[3]\n",
    "b = int2binary[4]\n",
    "X = np.array([[a, b]])\n",
    "print('X=',X)\n",
    "c = int2binary[7]\n",
    "# print(c)\n",
    "Y = np.array([c]).T\n",
    "print('Y=', Y)\n",
    "print('for loop counter:', binary_dim)"
   ]
  },
  {
   "cell_type": "code",
   "execution_count": null,
   "metadata": {
    "collapsed": false,
    "deletable": true,
    "editable": true
   },
   "outputs": [],
   "source": [
    "# 具体例\n",
    "X = np.array([[a[3], b[3]]])\n",
    "X"
   ]
  },
  {
   "cell_type": "code",
   "execution_count": null,
   "metadata": {
    "collapsed": false,
    "deletable": true,
    "editable": true
   },
   "outputs": [],
   "source": [
    "for position in range(binary_dim):\n",
    "    print(binary_dim - position - 1, end=' ')\n",
    "print()    "
   ]
  },
  {
   "cell_type": "code",
   "execution_count": null,
   "metadata": {
    "collapsed": false,
    "deletable": true,
    "editable": true
   },
   "outputs": [],
   "source": [
    "for iter in range(MaxIter):\n",
    "    # a と b を乱数で作り出して2進数に変換して格納\n",
    "    a_int = np.random.randint(largest_number / 2)\n",
    "    a = int2binary[a_int]\n",
    "\n",
    "    b_int = np.random.randint(largest_number / 2)\n",
    "    b = int2binary[b_int]\n",
    "\n",
    "    # c にはその和を格納\n",
    "    c_int = a_int + b_int\n",
    "    c = int2binary[c_int]\n",
    "\n",
    "    # d は 0 クリア\n",
    "    d = np.zeros_like(c)\n",
    "\n",
    "    total_err = 0\n",
    "    Output_deltas = list()\n",
    "    Hidden_values = list()\n",
    "    Hidden_values.append(np.zeros(N_h))\n",
    "\n",
    "    # forward prop\n",
    "    for position in range(binary_dim):\n",
    "        # a, b の上位桁から取り出して X に代入\n",
    "        X = np.array([[a[binary_dim - position - 1], b[binary_dim - position - 1]]])\n",
    "        # y に c の上位桁から代入\n",
    "        y = np.array([[c[binary_dim - position - 1]]]).T\n",
    "\n",
    "        # 入力行列 X に W_ih をかけて，Hidden_values かける W_hh をたして\n",
    "        # ここに文を挿入\n",
    "        \n",
    "        Delta = y - Output\n",
    "        # ここに文を挿入\n",
    "\n",
    "        ### prediction\n",
    "        d[binary_dim - position - 1] = np.round(Output[0][0])\n",
    "        Hidden_values.append(copy.deepcopy(Hidden))\n",
    "        #print('position=%d' % (position), end=' ')\n",
    "        #print(Hidden_values)\n",
    "\n",
    "    future_Hidden_delta = np.zeros(N_h)\n",
    "\n",
    "    # back prop\n",
    "    for position in range(binary_dim):\n",
    "        X = np.array([[a[position], b[position]]])\n",
    "        Hidden       = Hidden_values[-position - 1]\n",
    "        prev_Hidden  = Hidden_values[-position - 2]\n",
    "\n",
    "        Output_delta = Output_deltas[-position - 1]\n",
    "        Hidden_delta = (future_Hidden_delta.dot(W_hh.T) + Output_delta.dot(W_ho.T)) * d_sigmoid(Hidden)\n",
    "\n",
    "        # ここに文を挿入\n",
    "        future_Hiddne_delta = Hidden_delta\n",
    "\n",
    "    W_ho += lr * dW_ho\n",
    "    W_hh += lr * dW_hh\n",
    "    W_ih += lr * dW_ih\n",
    "\n",
    "    dW_ho *= 0\n",
    "    dW_hh *= 0\n",
    "    dW_ih *= 0\n",
    "\n",
    "    if iter % 1000 == 0:\n",
    "#    if iter % 5000 == 0:\n",
    "        print(\"iteration=\",iter)\n",
    "        print(\"Error: %f\" % (total_err))\n",
    "        print(\"Pred: %s\" % (str(d)))\n",
    "        print(\"True: %s\" % (str(c)))\n",
    "        out = 0\n",
    "        for index, x in enumerate(reversed(d)):\n",
    "            out += x * pow(2,index)\n",
    "        print(str(a_int) + \" + \" + str(b_int) + \" = \" + str(out))"
   ]
  },
  {
   "cell_type": "code",
   "execution_count": null,
   "metadata": {
    "collapsed": true,
    "deletable": true,
    "editable": true
   },
   "outputs": [],
   "source": []
  }
 ],
 "metadata": {
  "anaconda-cloud": {},
  "kernelspec": {
   "display_name": "Python [conda root]",
   "language": "python",
   "name": "conda-root-py"
  },
  "language_info": {
   "codemirror_mode": {
    "name": "ipython",
    "version": 3
   },
   "file_extension": ".py",
   "mimetype": "text/x-python",
   "name": "python",
   "nbconvert_exporter": "python",
   "pygments_lexer": "ipython3",
   "version": "3.5.3"
  }
 },
 "nbformat": 4,
 "nbformat_minor": 2
}
