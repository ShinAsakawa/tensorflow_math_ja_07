{
 "cells": [
  {
   "cell_type": "markdown",
   "metadata": {},
   "source": [
    "# 本日のお品書き\n",
    "\n",
    "1. はじめに(19:30-19:50, 10分)\n",
    "* 注意事項\n",
    "    * 撮影スタッフの田村様ご紹介\n",
    "    * 飲食可，ただしアルコール不可\n",
    "    * Wi-Fi: SSID HappyHacking, Key: EnjoyHacking\n",
    "    * GitHub https://github.com/ShinAsakawa/tensorflow_math_ja_07.git\n",
    "* [M3](https://www.m3.com/) 山崎様プレゼンテーション (21:25-21:30に移動)\n",
    " <img src=\"https://corporate.m3.com/img/impressed_01.jpg\" width=\"29%\" class=\"wrap align-right\">\n",
    "* [AINOW](http://ainow.ai/) 亀田様プレゼンテーション\n",
    "    <img src=\"http://ainow.ai/wp-content/uploads/2016/07/unnamed.png\" width=\"29%\" class=\"wrap align-right\">\n",
    "* [TFUG](https://www.facebook.com/groups/767448243396043/) のご紹介\n",
    "    <img src=\"https://connpass-tokyo.s3.amazonaws.com/thumbs/89/7c/897c3f129256ce0a20fb36ab854c455f.png\" width=\"24%\" class=\"wrap align-left\">\n",
    "* [小田桐様アスキーセミナー](http://ascii.jp/elem/000/001/441/1441159/)のご紹介<br>\n",
    "    <img src=\"http://ascii.jp/elem/000/001/441/1441152/d1_588x531.jpg\" width=\"29%\" style=\"float:right;\" class=\"wrap align-right\">\n",
    "    <img src=\"http://ascii.jp/elem/000/001/441/1441157/yuri_odagiri_230x306.jpg\" width=\"20%\" class=\"wrap align-right\">\n",
    "* [「Pythonで体験する深層学習」勉強会　第５回](https://dl-with-python.connpass.com/event/53379/)    \n",
    "    <img src=\"https://connpass-tokyo.s3.amazonaws.com/thumbs/3b/17/3b17dfc3b7a521d0c2076194844f135c.png\" width=\"49%\" class=\"wrap align-right\">\n",
    "\n",
    "\n",
    "2. 前回の補足 [t-SNE](http://distill.pub/2016/misread-tsne/) の若干の注意事項 (19:50-20:00, 10分)\n",
    "---\n",
    "\n",
    "# ここから RNN\n",
    "\n",
    "1. [RNN の歴史](./07_01history.ipynb)(20:00-20:15, 15分)\n",
    "1. Sequential mnist hands-on  (20:15-20:30, 15分)\n",
    "\n",
    "<span style=\"color:Lime;font-size:24pt\">休憩</span> (20:30-20:40, 10分進み方によっては5分)\n",
    "\n",
    "1. 中沢様 [ライトニングトーク](20170322_nakazawa.pdf) (20:40-20:45, 5分)\n",
    "1. [BPTT](./07_02bptt.ipynb) ./(20:45-21:00，15分)\n",
    "1. binary addition hands-on (21:00-21:15, 15分)\n",
    "1. [BiRNN](./07_03birnn.ipynb)\n",
    "\n",
    "---\n",
    "4. [質疑応答](./07_04discussion.ipynb) (21:15-21:25，10分)\n",
    "5. [まとめ](./07_05final_remark.ipynb) (21:25-21:30, 5分)"
   ]
  },
  {
   "cell_type": "code",
   "execution_count": null,
   "metadata": {
    "collapsed": true
   },
   "outputs": [],
   "source": []
  }
 ],
 "metadata": {
  "anaconda-cloud": {},
  "kernelspec": {
   "display_name": "Python [conda root]",
   "language": "python",
   "name": "conda-root-py"
  },
  "language_info": {
   "codemirror_mode": {
    "name": "ipython",
    "version": 3
   },
   "file_extension": ".py",
   "mimetype": "text/x-python",
   "name": "python",
   "nbconvert_exporter": "python",
   "pygments_lexer": "ipython3",
   "version": "3.5.3"
  }
 },
 "nbformat": 4,
 "nbformat_minor": 2
}
