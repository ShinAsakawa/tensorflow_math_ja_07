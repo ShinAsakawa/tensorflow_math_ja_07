{
 "cells": [
  {
   "cell_type": "markdown",
   "metadata": {},
   "source": [
    "# RNN の歴史\n",
    "\n",
    "\n",
    "|  年号 |  話題    |\n",
    "|------|----------|\n",
    "| 1986 |NETtalk|\n",
    "| 1986|Jordan Net|\n",
    "| 1991|Elman Net|\n",
    "| 1986|RTRL (省略)|\n",
    "| 1991(1986)|BPTT|\n",
    "| 1997|LSTM|\n",
    "| 2003|Bengio's model|\n",
    "| 2011|Mikolov Revolution|\n",
    "| 2014|Seq2Seq|\n",
    "| 2014|GRU|\n",
    "| 2014|Attention|\n"
   ]
  },
  {
   "cell_type": "markdown",
   "metadata": {},
   "source": [
    "---\n",
    "## 1. [NETTalk](./1986Sejnowski_Rosenberg_NETtalk__parallel_network_that_learns_to_read_aloud.pdf)\n",
    "\n",
    "<center>\n",
    "<img src=\"./assets/1986Sejnowski_NETtalkFig2.svg\" width=\"49%\" style=\"wrap align-left\">\n",
    "Sejnowski and Rosenberg (1986) Fig.2 \n",
    "</center>\n",
    "\n",
    "## 2. [Jordan Net](./1986Jordan_Serial_order.pdf)\n",
    "<center>\n",
    "<img src=\"./assets/1986JordanFig3.svg\" width=\"34%\">\n",
    "Jordan (1986) Fig.3\n",
    "</center>\n",
    "\n",
    "\n",
    "## 3. [Elman Net](./1991Elman_Distributed_representations_simple_recurrent_networks_and_gramamtical_structure.pdf)\n",
    "\n",
    "<center>\n",
    "<img src=\"./assets/1991ElmanFig1.jpg\" width=\"34%\">\n",
    "Elman (1991) Fig.1\n",
    "</center>\n",
    "\n",
    "## 4. [BPTT](./1995Williams_Zipser_Recurrent_Networks.pdf)\n",
    "\n",
    "<center>\n",
    "<img src=\"./assets/1995Williams_Zipser_Fig4.svg\" width=\"49%\">\n",
    "</center>\n",
    "\n",
    "## 5. [Bengio's model](./2003Bengio_A_Neural_Probabilistic_Language_Model.pdf)\n",
    "\n",
    "<center>\n",
    "<img src=\"./assets/2003Bengio_Fig1.svg\" width=\"49%\" style=\"wrap align-left\">\n",
    "Bengio et. al, (2003) Fig.1 p\n",
    "</center>"
   ]
  },
  {
   "cell_type": "markdown",
   "metadata": {},
   "source": [
    "## 6. Mikolov\n",
    "\n",
    "<center>\n",
    "<img src=\"./assets/Mikolov.jpg\" width=\"14%\">\n",
    "<img src=\"./assets/2011Mikolov_Extention_Fig1.jpg\" width=\"49%\">\n",
    "<img src=\"./assets/2011Mikolov_ExtentionTab1.svg\" width=\"74%\">\n",
    "</center>"
   ]
  },
  {
   "cell_type": "markdown",
   "metadata": {},
   "source": [
    "## LSTM\n",
    "\n",
    "<center>\n",
    "<img src=\"./assets/2015Greff_LSTM_ja.svg\" width=\"49%\">\n",
    "</center>\n"
   ]
  },
  {
   "cell_type": "markdown",
   "metadata": {},
   "source": [
    "## GRU\n",
    "\n",
    "<center>\n",
    "<img src=\"./assets/2014ChungChoBengio_LSTM_GRU.svg\" width=\"49%\">\n",
    "</center>\n"
   ]
  },
  {
   "cell_type": "markdown",
   "metadata": {},
   "source": [
    "## Seq2Seq\n",
    "\n",
    "<center>\n",
    "<img src=\"./assets/2015Sutskever_S2S.svg\" width=\"74%\">\n",
    "</center>"
   ]
  },
  {
   "cell_type": "markdown",
   "metadata": {},
   "source": [
    "## Attention\n",
    "\n",
    "<center>\n",
    "<img src=\"./assets/2015Bahdanau_Fig1.svg\" width=\"49%\">\n",
    "</center>"
   ]
  },
  {
   "cell_type": "code",
   "execution_count": null,
   "metadata": {
    "collapsed": true
   },
   "outputs": [],
   "source": []
  }
 ],
 "metadata": {
  "kernelspec": {
   "display_name": "Python [conda root]",
   "language": "python",
   "name": "conda-root-py"
  },
  "language_info": {
   "codemirror_mode": {
    "name": "ipython",
    "version": 3
   },
   "file_extension": ".py",
   "mimetype": "text/x-python",
   "name": "python",
   "nbconvert_exporter": "python",
   "pygments_lexer": "ipython3",
   "version": "3.5.3"
  }
 },
 "nbformat": 4,
 "nbformat_minor": 2
}
