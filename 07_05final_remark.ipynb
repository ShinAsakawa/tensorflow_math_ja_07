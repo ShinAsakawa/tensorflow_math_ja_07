{
 "cells": [
  {
   "cell_type": "markdown",
   "metadata": {},
   "source": [
    "# まとめ\n",
    "\n",
    "1. [nltk](http://www.nltk.org/book/) <img src=\"http://covers.oreilly.com/images/9780596516499/cat.gif\" width=\"14%\" style=\"wrap\">\n",
    "2. [gensim](https://radimrehurek.com/gensim/) <img src=\"https://radimrehurek.com/gensim/_static/images/gensim.png\" width=\"24%\" sytle=\"wrap left-align\">\n",
    "3. [rnnlm](http://www.fit.vutbr.cz/~imikolov/rnnlm/)\n",
    "4. [srilm](http://www.speech.sri.com/projects/srilm/) [pdf](./2002Stolke_icslp_srilm.pdf) <img src=\"http://www.speech.sri.com/images/logo_sri.gif\" width=\"14%\" style=\"wrap align-left\">"
   ]
  },
  {
   "cell_type": "code",
   "execution_count": null,
   "metadata": {
    "collapsed": true
   },
   "outputs": [],
   "source": []
  }
 ],
 "metadata": {
  "kernelspec": {
   "display_name": "Python [conda root]",
   "language": "python",
   "name": "conda-root-py"
  },
  "language_info": {
   "codemirror_mode": {
    "name": "ipython",
    "version": 3
   },
   "file_extension": ".py",
   "mimetype": "text/x-python",
   "name": "python",
   "nbconvert_exporter": "python",
   "pygments_lexer": "ipython3",
   "version": "3.5.3"
  }
 },
 "nbformat": 4,
 "nbformat_minor": 2
}
